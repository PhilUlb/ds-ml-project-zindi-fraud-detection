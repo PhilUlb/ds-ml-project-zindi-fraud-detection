{
 "cells": [
  {
   "cell_type": "markdown",
   "id": "17266ae3-bdfa-4424-b530-2c2153ef4025",
   "metadata": {},
   "source": [
    "# EDA\n",
    "\n",
    "## Task\n",
    "Xente is an e-commerce and financial service app serving 10,000+ customers in Uganda.\n",
    "Xente offers smart Visa cards & payment solutions that simplify finance and admin for companies operating in Africa.\n",
    "This dataset includes a sample of approximately 140,000 transactions that occurred between 15 November 2018 and 15 March 2019.\n",
    "\n",
    "One of the challenges of fraud detection problems is that the data is highly imbalanced. See these blogs for examples on how imbalanced data might be handled:\n",
    "https://medium.com/coinmonks/handling-imbalanced-datasets-predicting-credit-card-fraud-544f5e74e0fd\n",
    "https://towardsdatascience.com/methods-for-dealing-with-imbalanced-data-5b761be45a18\n",
    "\n",
    "## Variables\n",
    "Column Name,Definition\n",
    "* TransactionId: Unique transaction identifier on platform\n",
    "* BatchId: Unique number assigned to a batch of transactions for processing\n",
    "* AccountId: Unique number identifying the customer on platform\n",
    "* SubscriptionId: Unique number identifying the customer subscription\n",
    "* CustomerId: Unique identifier attached to Account\n",
    "* CurrencyCode: Country currency\n",
    "* CountryCode: Numerical geographical code of country\n",
    "* ProviderId: Source provider of Item bought.\n",
    "* ProductId: Item name being bought.\n",
    "* ProductCategory: ProductIds are organized into these broader product categories.\n",
    "* ChannelId: \"Identifies if customer used web,Android, IOS, pay later or checkout.\"\n",
    "* Amount: Value of the transaction. Positive for debits from customer account and negative for credit into customer account\n",
    "* Value: Absolute value of the amount\n",
    "* TransactionStartTime: Transaction start time\n",
    "* PricingStrategy,: Category of Xente's pricing structure for merchants\n",
    "* FraudResult: Fraud status of transaction 1 -yes or 0-No\n",
    "\n",
    "## Brainstorming\n",
    "* new feature: sign of \"Amount\" to separate debit from credit transactions\n",
    "* |Amount| should be == value -> not always the case!\n",
    "* After baseline modeling: Feature engineering on TransactionStartTime\n",
    "    * Periodicality (more fraud during/after work hours, certain days of the week...)\n",
    "\n",
    "## Import libraries"
   ]
  },
  {
   "cell_type": "code",
   "execution_count": null,
   "id": "f64e2444-561a-4988-9a39-5587d1ed2a07",
   "metadata": {
    "tags": []
   },
   "outputs": [],
   "source": [
    "import pandas as pd\n",
    "from pandas_profiling import ProfileReport\n",
    "import numpy as np\n",
    "\n",
    "import ipywidgets\n",
    "\n",
    "import matplotlib\n",
    "#matplotlib.use('TkAgg')\n",
    "import matplotlib.pyplot as plt\n",
    "%matplotlib inline\n",
    "import seaborn as sns\n",
    "import plotly.express as px\n",
    "from plotly.subplots import make_subplots\n",
    "import plotly.graph_objects as go\n",
    "from sklearn.metrics import classification_report, confusion_matrix\n",
    "from sklearn.tree import DecisionTreeClassifier\n",
    "from sklearn.model_selection import train_test_split\n",
    "from sklearn.naive_bayes import GaussianNB"
   ]
  },
  {
   "cell_type": "markdown",
   "id": "8df1fa0f-028c-4a80-adf0-981afdf8c89c",
   "metadata": {},
   "source": [
    "## Import data"
   ]
  },
  {
   "cell_type": "code",
   "execution_count": null,
   "id": "a4d908b3-cf03-473e-973d-c980de97bcaa",
   "metadata": {
    "tags": []
   },
   "outputs": [],
   "source": [
    "df = pd.read_csv(\"../data/training.csv\")\n",
    "df = df.drop([\"CurrencyCode\",\"CountryCode\"], axis=1) # identical value across all entries\n",
    "df.set_index(\"TransactionId\", inplace=True)\n",
    "df.head()"
   ]
  },
  {
   "cell_type": "markdown",
   "id": "42817d46-be9d-407c-b950-f25413eff3d3",
   "metadata": {},
   "source": [
    "## Profiling report"
   ]
  },
  {
   "cell_type": "code",
   "execution_count": null,
   "id": "6c2bda05-1e87-428e-b4d4-c75437d3108a",
   "metadata": {},
   "outputs": [],
   "source": [
    "profile = ProfileReport(df, title=\"Pandas Profiling Report\", explorative=True)\n",
    "profile"
   ]
  },
  {
   "cell_type": "markdown",
   "id": "67ff0e52-4817-4af0-9260-d19c59b5f8d4",
   "metadata": {},
   "source": [
    "# Exploratory Data Analysis"
   ]
  },
  {
   "cell_type": "markdown",
   "id": "6a38f3cf-e9c7-4c05-81d0-9a584584ff6c",
   "metadata": {},
   "source": [
    "## Plot fraudulent transactions for all features"
   ]
  },
  {
   "cell_type": "code",
   "execution_count": null,
   "id": "ee57d54b-5314-4621-92e3-bfe57deeb3bf",
   "metadata": {},
   "outputs": [],
   "source": [
    "fraud = df.query(\"FraudResult == 1\")\n",
    "fraud"
   ]
  },
  {
   "cell_type": "code",
   "execution_count": null,
   "id": "547aa48d-9cd3-4f72-ba6f-c12f1a41b36b",
   "metadata": {},
   "outputs": [],
   "source": [
    "sns.pairplot(fraud)"
   ]
  },
  {
   "cell_type": "code",
   "execution_count": null,
   "id": "14fb3a6e-b4c4-4caf-b207-9586961bc89b",
   "metadata": {},
   "outputs": [],
   "source": [
    "sns.countplot(x=\"PricingStrategy\", data=fraud)\n",
    "plt.show\n",
    "\n",
    "fraud.query(\"PricingStrategy == 0\")[\"PricingStrategy\"].count()"
   ]
  },
  {
   "cell_type": "markdown",
   "id": "0e5b6f02-9be8-432b-bf1c-73fedb019b1d",
   "metadata": {},
   "source": [
    "Analysing fraud-positive data, we can see a high correlation with pricingstrategy = 0 (10% fraud-positive)"
   ]
  },
  {
   "cell_type": "markdown",
   "id": "702478dd-36eb-48e3-91f5-d2510864d57f",
   "metadata": {},
   "source": [
    "## Normalize fraudulent transactions against ProductID"
   ]
  },
  {
   "cell_type": "code",
   "execution_count": null,
   "id": "330a8fe6-df19-4d6a-87cb-67b0c2cb405b",
   "metadata": {},
   "outputs": [],
   "source": [
    "feature_names = ['BatchId',\n",
    " 'AccountId',\n",
    " 'SubscriptionId',\n",
    " 'CustomerId',\n",
    " 'ProviderId',\n",
    " 'ProductId',\n",
    " 'ProductCategory',\n",
    " 'ChannelId',\n",
    " 'PricingStrategy']\n",
    "\n",
    "for feat in feature_names:\n",
    "    counts = (df.groupby(feat)['FraudResult']\n",
    "                         .value_counts(normalize=True)\n",
    "                         .rename('percentage_fraud')\n",
    "                         .mul(100)\n",
    "                         .reset_index()\n",
    "                         .sort_values(feat))\n",
    "    plt.figure(figsize=(20,6), dpi=80)\n",
    "    p = sns.barplot(x=feat, y=\"percentage_fraud\", hue=\"FraudResult\", data=counts[counts.FraudResult==1])\n",
    "    plt.xticks(rotation=90)"
   ]
  },
  {
   "cell_type": "markdown",
   "id": "9c11b964-d809-48e1-b6ae-1f4eeb030fe8",
   "metadata": {},
   "source": [
    "## Get dummies\n",
    "Use pd.get_dummies(loans,columns=cat_feats,drop_first=True) to create a fixed larger dataframe that has new feature columns with dummy variables. Set this dataframe as final_data.**"
   ]
  },
  {
   "cell_type": "code",
   "execution_count": null,
   "id": "f2abfa14-ca71-4f78-9d38-e3c767b87c41",
   "metadata": {},
   "outputs": [],
   "source": [
    "df.columns.tolist()"
   ]
  },
  {
   "cell_type": "code",
   "execution_count": null,
   "id": "38fec47a-3b98-4a08-8d2c-2baaef0f56b2",
   "metadata": {
    "tags": []
   },
   "outputs": [],
   "source": [
    "cat_columns = [\n",
    " 'ProviderId',\n",
    " 'ProductId',\n",
    " 'ProductCategory',\n",
    " 'ChannelId',\n",
    " 'PricingStrategy']"
   ]
  },
  {
   "cell_type": "code",
   "execution_count": null,
   "id": "bcbf6b35-aa6d-48e3-8ad3-0c618d0f2544",
   "metadata": {},
   "outputs": [],
   "source": [
    "df_dummies = pd.get_dummies(df, columns=cat_columns, drop_first = True)\n",
    "df_dummies.head()\n",
    "\n",
    "baseline = df_dummies.drop([\"BatchId\", \"AccountId\", \"SubscriptionId\", \"CustomerId\", \"TransactionStartTime\"], axis=1)"
   ]
  },
  {
   "cell_type": "markdown",
   "id": "87441c36-5b14-4897-a009-d884c61e650c",
   "metadata": {},
   "source": [
    "### Define features (X) and target variable (y)"
   ]
  },
  {
   "cell_type": "code",
   "execution_count": null,
   "id": "4e8d96b3-d2fc-47a9-b5af-f2ab3efbcf81",
   "metadata": {},
   "outputs": [],
   "source": [
    "X = baseline.loc[:, baseline.columns != 'FraudResult']\n",
    "y = baseline[\"FraudResult\"]"
   ]
  },
  {
   "cell_type": "code",
   "execution_count": null,
   "id": "4093c04d-bb13-4ef5-b6ea-ad6c242b6f06",
   "metadata": {},
   "outputs": [],
   "source": [
    "X_train, X_test, y_train, y_test = train_test_split(X, y, test_size=0.3, stratify=y, random_state=0)"
   ]
  },
  {
   "cell_type": "code",
   "execution_count": null,
   "id": "813d9ae0-406e-46f0-82b2-5b374171c8d5",
   "metadata": {},
   "outputs": [],
   "source": [
    "dtree = DecisionTreeClassifier()\n",
    "dtree.fit(X_train,y_train)\n",
    "predictions = dtree.predict(X_test)   \n",
    "\n",
    "confusion_matrix(y_test, predictions)"
   ]
  },
  {
   "cell_type": "code",
   "execution_count": null,
   "id": "03f36ed9-8426-45de-9f22-1e07b42ea34c",
   "metadata": {},
   "outputs": [],
   "source": [
    "print(classification_report(y_test, predictions))"
   ]
  },
  {
   "cell_type": "markdown",
   "id": "590b40c5-3220-4bc1-a414-3a028355e9da",
   "metadata": {},
   "source": [
    "## Checking base line model with Naive Bayes"
   ]
  },
  {
   "cell_type": "code",
   "execution_count": null,
   "id": "5b696103-bc5d-41b3-bb0b-930c4fc993af",
   "metadata": {},
   "outputs": [],
   "source": [
    "NB = GaussianNB()\n",
    "NB.fit(X_test, y_test)"
   ]
  },
  {
   "cell_type": "code",
   "execution_count": null,
   "id": "2a5505f7-8651-4cb9-8410-c12bdfe758b4",
   "metadata": {},
   "outputs": [],
   "source": [
    "predictions = NB.predict(X_test)   \n",
    "confusion_matrix(y_test, predictions)"
   ]
  },
  {
   "cell_type": "code",
   "execution_count": null,
   "id": "ea8b8a4b-b8a6-4904-a8d1-d8870b4676c5",
   "metadata": {},
   "outputs": [],
   "source": [
    "print(classification_report(y_test, predictions))"
   ]
  },
  {
   "cell_type": "code",
   "execution_count": null,
   "id": "4321ce80-53b3-41dd-a2a6-adbc0d09850e",
   "metadata": {},
   "outputs": [],
   "source": []
  }
 ],
 "metadata": {
  "kernelspec": {
   "display_name": "Python 3 (ipykernel)",
   "language": "python",
   "name": "python3"
  },
  "language_info": {
   "codemirror_mode": {
    "name": "ipython",
    "version": 3
   },
   "file_extension": ".py",
   "mimetype": "text/x-python",
   "name": "python",
   "nbconvert_exporter": "python",
   "pygments_lexer": "ipython3",
   "version": "3.9.4"
  }
 },
 "nbformat": 4,
 "nbformat_minor": 5
}
