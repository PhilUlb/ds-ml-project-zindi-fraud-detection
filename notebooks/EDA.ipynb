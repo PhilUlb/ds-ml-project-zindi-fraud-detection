{
 "cells": [
  {
   "cell_type": "markdown",
   "id": "17266ae3-bdfa-4424-b530-2c2153ef4025",
   "metadata": {},
   "source": [
    "# EDA\n",
    "\n",
    "## Task\n",
    "Xente is an e-commerce and financial service app serving 10,000+ customers in Uganda.\n",
    "Xente offers smart Visa cards & payment solutions that simplify finance and admin for companies operating in Africa.\n",
    "This dataset includes a sample of approximately 140,000 transactions that occurred between 15 November 2018 and 15 March 2019.\n",
    "\n",
    "One of the challenges of fraud detection problems is that the data is highly imbalanced. See these blogs for examples on how imbalanced data might be handled:\n",
    "https://medium.com/coinmonks/handling-imbalanced-datasets-predicting-credit-card-fraud-544f5e74e0fd\n",
    "https://towardsdatascience.com/methods-for-dealing-with-imbalanced-data-5b761be45a18\n",
    "\n",
    "## Variables\n",
    "Column Name,Definition\n",
    "* TransactionId: Unique transaction identifier on platform\n",
    "* BatchId: Unique number assigned to a batch of transactions for processing\n",
    "* AccountId: Unique number identifying the customer on platform\n",
    "* SubscriptionId: Unique number identifying the customer subscription\n",
    "* CustomerId: Unique identifier attached to Account\n",
    "* CurrencyCode: Country currency\n",
    "* CountryCode: Numerical geographical code of country\n",
    "* ProviderId: Source provider of Item bought.\n",
    "* ProductId: Item name being bought.\n",
    "* ProductCategory: ProductIds are organized into these broader product categories.\n",
    "* ChannelId: \"Identifies if customer used web,Android, IOS, pay later or checkout.\"\n",
    "* Amount: Value of the transaction. Positive for debits from customer account and negative for credit into customer account\n",
    "* Value: Absolute value of the amount\n",
    "* TransactionStartTime: Transaction start time\n",
    "* PricingStrategy,: Category of Xente's pricing structure for merchants\n",
    "* FraudResult: Fraud status of transaction 1 -yes or 0-No\n",
    "\n",
    "## Brainstorming\n",
    "* new feature: sign of \"Amount\" to separate debit from credit transactions\n",
    "* |Amount| should be == value -> not always the case!\n",
    "* After baseline modeling: Feature engineering on TransactionStartTime\n",
    "    * Periodicality (more fraud during/after work hours, certain days of the week...)\n",
    "\n",
    "## Import libraries"
   ]
  },
  {
   "cell_type": "code",
   "execution_count": null,
   "id": "f64e2444-561a-4988-9a39-5587d1ed2a07",
   "metadata": {
    "jupyter": {
     "source_hidden": true
    },
    "tags": []
   },
   "outputs": [],
   "source": [
    "import pandas as pd\n",
    "from pandas_profiling import ProfileReport\n",
    "import numpy as np\n",
    "\n",
    "import ipywidgets\n",
    "\n",
    "import matplotlib.pyplot as plt\n",
    "import seaborn as sns\n",
    "import plotly.express as px\n",
    "from plotly.subplots import make_subplots\n",
    "import plotly.graph_objects as go"
   ]
  },
  {
   "cell_type": "markdown",
   "id": "8df1fa0f-028c-4a80-adf0-981afdf8c89c",
   "metadata": {},
   "source": [
    "## Import data"
   ]
  },
  {
   "cell_type": "code",
   "execution_count": null,
   "id": "a4d908b3-cf03-473e-973d-c980de97bcaa",
   "metadata": {
    "tags": []
   },
   "outputs": [],
   "source": [
    "df = pd.read_csv(\"../data/training.csv\")\n",
    "\n",
    "df = df.drop([\"CurrencyCode\",\"CountryCode\"], axis=1) # identical value across all entries\n",
    "df.set_index(\"TransactionId\", inplace=True)\n",
    "\n",
    "df.head(20)"
   ]
  },
  {
   "cell_type": "markdown",
   "id": "42817d46-be9d-407c-b950-f25413eff3d3",
   "metadata": {},
   "source": [
    "## Profiling report"
   ]
  },
  {
   "cell_type": "code",
   "execution_count": null,
   "id": "6c2bda05-1e87-428e-b4d4-c75437d3108a",
   "metadata": {},
   "outputs": [],
   "source": [
    "profile = ProfileReport(df, title=\"Pandas Profiling Report\", explorative=True)\n",
    "profile"
   ]
  },
  {
   "cell_type": "code",
   "execution_count": null,
   "id": "4c4a42d0-afe3-4be3-9c3a-42d179ff0a34",
   "metadata": {},
   "outputs": [],
   "source": []
  }
 ],
 "metadata": {
  "kernelspec": {
   "display_name": "Python 3 (ipykernel)",
   "language": "python",
   "name": "python3"
  },
  "language_info": {
   "codemirror_mode": {
    "name": "ipython",
    "version": 3
   },
   "file_extension": ".py",
   "mimetype": "text/x-python",
   "name": "python",
   "nbconvert_exporter": "python",
   "pygments_lexer": "ipython3",
   "version": "3.9.4"
  }
 },
 "nbformat": 4,
 "nbformat_minor": 5
}
