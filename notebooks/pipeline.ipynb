{
 "cells": [
  {
   "cell_type": "code",
   "execution_count": null,
   "id": "7b8314f0-9c0b-47d5-8240-dca69127733d",
   "metadata": {},
   "outputs": [],
   "source": [
    "import pandas as pd\n",
    "from pandas_profiling import ProfileReport\n",
    "import numpy as np\n",
    "\n",
    "import ipywidgets\n",
    "\n",
    "import matplotlib\n",
    "#matplotlib.use('TkAgg')\n",
    "import matplotlib.pyplot as plt\n",
    "%matplotlib inline\n",
    "import seaborn as sns\n",
    "import plotly.express as px\n",
    "from plotly.subplots import make_subplots\n",
    "import plotly.graph_objects as go\n",
    "from sklearn.metrics import classification_report, confusion_matrix\n",
    "from sklearn.tree import DecisionTreeClassifier\n",
    "from sklearn.model_selection import train_test_split\n",
    "from sklearn.naive_bayes import GaussianNB\n",
    "\n",
    "from sklearn.ensemble import RandomForestClassifier\n",
    "from sklearn.linear_model import LogisticRegression\n",
    "from sklearn.metrics import matthews_corrcoef\n",
    "from imblearn.over_sampling import SMOTE, RandomOverSampler\n",
    "from sklearn.metrics import f1_score, make_scorer, recall_score\n",
    "from sklearn.model_selection import RandomizedSearchCV\n",
    "from sklearn.model_selection import GridSearchCV\n",
    "from sklearn.neighbors import KNeighborsClassifier\n",
    "from sklearn.ensemble import AdaBoostClassifier\n",
    "from datetime import datetime\n",
    "import itertools"
   ]
  },
  {
   "cell_type": "markdown",
   "id": "cc3ed9cc-550f-4204-9975-4bc2eb3ab60c",
   "metadata": {},
   "source": [
    "# Create Dataset and Train, Test, Split including SMOTE"
   ]
  },
  {
   "cell_type": "code",
   "execution_count": null,
   "id": "cb588b7e-f20d-4250-9963-0f42a4753660",
   "metadata": {},
   "outputs": [],
   "source": [
    "baseline = pd.read_csv(\"../data/training.csv\")\n",
    "\n",
    "\n",
    "\n",
    "#df = df.drop([\"CurrencyCode\",\"CountryCode\"], axis=1) # identical value across all entries\n",
    "baseline = baseline.drop([\"CurrencyCode\",\"CountryCode\", \"TransactionStartTime\"], axis=1) # identical value across all entries\n",
    "#test = test.drop([\"CurrencyCode\",\"CountryCode\"], axis=1) # identical value across all entries\n",
    "\n",
    "baseline.set_index(\"TransactionId\", inplace=True)"
   ]
  },
  {
   "cell_type": "code",
   "execution_count": null,
   "id": "0a6fc111-7c68-4afd-8797-09e1ce8094d9",
   "metadata": {},
   "outputs": [],
   "source": [
    "cat_columns = [\n",
    " 'ProviderId',\n",
    " 'ProductId',\n",
    " 'ProductCategory',\n",
    " 'ChannelId',\n",
    " 'PricingStrategy']\n",
    "\n",
    "baseline_dummies = pd.get_dummies(baseline, columns=cat_columns, drop_first = True)\n",
    "baseline_dummies.head()\n",
    "\n",
    "baseline = baseline_dummies.drop([\"BatchId\", \"AccountId\", \"SubscriptionId\", \"CustomerId\"], axis=1)"
   ]
  },
  {
   "cell_type": "code",
   "execution_count": null,
   "id": "b22de204-dfe7-4332-b77c-996bf082473c",
   "metadata": {},
   "outputs": [],
   "source": [
    "df = pd.read_csv(\"../data/training_final.csv\")\n",
    "df.set_index(\"TransactionId\", inplace=True)\n",
    "cat_columns = [\n",
    " 'ProviderId',\n",
    " 'ProductId',\n",
    " 'ProductCategory',\n",
    " 'ChannelId',\n",
    " 'PricingStrategy',\n",
    " 'BookingType',\n",
    " 'Interval']\n",
    "\n",
    "df_dummies = pd.get_dummies(df, columns=cat_columns, drop_first = True)\n",
    "df_dummies.head()\n",
    "\n",
    "df = df_dummies.drop([\"BatchId\", \"AccountId\", \"SubscriptionId\", \"CustomerId\", \"TransactionStartTime\",'ProviderId-AccountId'], axis=1)"
   ]
  },
  {
   "cell_type": "code",
   "execution_count": null,
   "id": "61e58398-2573-4de3-b914-0274ffb8c101",
   "metadata": {},
   "outputs": [],
   "source": [
    "test = pd.read_csv(\"../data/test_final.csv\")\n",
    "test.set_index(\"TransactionId\", inplace=True)\n",
    "\n",
    "cat_columns = [\n",
    " 'ProviderId',\n",
    " 'ProductId',\n",
    " 'ProductCategory',\n",
    " 'ChannelId',\n",
    " 'PricingStrategy',\n",
    " 'BookingType',\n",
    " 'Interval']\n",
    "\n",
    "test_dummies = pd.get_dummies(test, columns=cat_columns, drop_first = True)\n",
    "test_dummies.head()\n",
    "\n",
    "test = test_dummies.drop([\"BatchId\", \"AccountId\", \"SubscriptionId\", \"CustomerId\", \"TransactionStartTime\",'ProviderId-AccountId'], axis=1)"
   ]
  },
  {
   "cell_type": "code",
   "execution_count": null,
   "id": "2ada8562-8ce7-4945-a6e1-5b92e180eb21",
   "metadata": {},
   "outputs": [],
   "source": [
    "def prepare_data(dataset=baseline, RSEED=0):\n",
    "    #Define features X and target variable y\n",
    "    \n",
    "    RSEED=0\n",
    "    X = dataset.loc[:, dataset.columns != 'FraudResult']\n",
    "    y = dataset[\"FraudResult\"]\n",
    "    \n",
    "    #Train, Test, Split\n",
    "    X_train, X_test, y_train, y_test = train_test_split(X, y, test_size=0.3, stratify=y, random_state=RSEED)\n",
    "    \n",
    "    # Balancing with SMOTE\n",
    "    #sm = RandomOverSampler(sampling_strategy='minority')\n",
    "    sm = SMOTE(random_state=RSEED)\n",
    "    X_train_balanced, y_train_balanced = sm.fit_resample(X_train, y_train)\n",
    "    \n",
    "    return X_train, X_test, y_train, y_test, X_train_balanced, y_train_balanced"
   ]
  },
  {
   "cell_type": "markdown",
   "id": "2699665a-0cb2-486d-9c42-37ad6ec6f4e1",
   "metadata": {},
   "source": [
    "# Get best Hyperparameters for DecisionTree, RandomForest and KNN"
   ]
  },
  {
   "cell_type": "code",
   "execution_count": null,
   "id": "378befda-827b-4ede-b180-2fff2ba00308",
   "metadata": {},
   "outputs": [],
   "source": [
    "#Getting best parameters regarding models\n",
    "def best_hyperparameter(X_train, y_train, RSEED=0): \n",
    "    \n",
    "    #Creating Scorer for optimization\n",
    "    f1 = make_scorer(f1_score)\n",
    "    matthews_coeff = make_scorer(matthews_corrcoef)\n",
    "    recall = make_scorer(recall_score)\n",
    "    \n",
    "    #Decision Tree\n",
    "    start_time = datetime.now()\n",
    "\n",
    "    param_grid_dt = [{'criterion': ['entropy', 'gini'], \n",
    "                      'max_depth': [3,6,9],\n",
    "                     'min_samples_leaf': [2,5,10]}]\n",
    "    estimator_dt = DecisionTreeClassifier(random_state=RSEED)\n",
    "    rs_dt = GridSearchCV(estimator_dt, param_grid_dt, scoring=f1)\n",
    "    rs_dt.fit(X_train, y_train)\n",
    "    best_params_dt = estimator_dt.set_params(**rs_dt.best_params_)\n",
    "    \n",
    "\n",
    "    end_time = datetime.now()\n",
    "    print('Duration DT: {}'.format(end_time - start_time))\n",
    "    \n",
    "    \n",
    "    start_time = datetime.now()\n",
    "    #Random Forest  \n",
    "    param_grid_rf = {\n",
    "    'n_estimators': np.linspace(10, 200).astype(int),\n",
    "    'max_depth': [None] + list(np.linspace(3, 20).astype(int)),\n",
    "    'max_features': ['auto', 'sqrt', None] + list(np.arange(0.5, 1, 0.1)),\n",
    "    'max_leaf_nodes': [None] + list(np.linspace(10, 50, 500).astype(int)),\n",
    "    'min_samples_split': [2, 5, 10],\n",
    "    'bootstrap': [True, False]}\n",
    "    \n",
    "    estimator_rf = RandomForestClassifier(random_state=RSEED)\n",
    "    rs_rf = RandomizedSearchCV(estimator_rf, param_grid_rf, n_jobs = -1, n_iter=5,\n",
    "                               cv = 3, verbose = 1, scoring=f1, random_state=RSEED)\n",
    "    rs_rf.fit(X_train, y_train)\n",
    "    best_params_rf = estimator_rf.set_params(**rs_rf.best_params_)\n",
    "    \n",
    "    end_time = datetime.now()\n",
    "    print('Duration RF: {}'.format(end_time - start_time))\n",
    "    \n",
    "    start_time = datetime.now()\n",
    "    \n",
    "    ''' \n",
    "    #KNN\n",
    "    param_grid_knn = [{'n_neighbors': [5], \n",
    "                      'metric': ['minkowski'],\n",
    "                      'p': [1,2]}]\n",
    "    estimator_knn = KNeighborsClassifier()\n",
    "    rs_knn = GridSearchCV(estimator_knn, param_grid_knn,\n",
    "                            scoring=matthews_coeff, verbose=4)\n",
    "    rs_knn.fit(X_train, y_train)\n",
    "    best_params_knn = estimator_knn.set_params(**rs_knn.best_params_)\n",
    "    \n",
    "    end_time = datetime.now()\n",
    "    print('Duration KNN: {}'.format(end_time - start_time))\n",
    "    '''\n",
    "    \n",
    "    return best_params_dt, best_params_rf"
   ]
  },
  {
   "cell_type": "code",
   "execution_count": null,
   "id": "911a2c1e-49a6-4c34-b919-62759c87d74c",
   "metadata": {},
   "outputs": [],
   "source": [
    "def plot_confusion_matrix(cm, classes,\n",
    "                          normalize=False,\n",
    "                          title='Confusion matrix',\n",
    "                          cmap=plt.cm.Blues):\n",
    "    \"\"\"\n",
    "    This function prints and plots the confusion matrix.\n",
    "    Normalization can be applied by setting `normalize=True`.\n",
    "    \"\"\"\n",
    "    if normalize:\n",
    "        cm = cm.astype('float') / cm.sum(axis=1)[:, np.newaxis]\n",
    "        print(\"Normalized confusion matrix\")\n",
    "    else:\n",
    "        print('Confusion matrix, without normalization')\n",
    "\n",
    "    print(cm)\n",
    "\n",
    "    plt.imshow(cm, interpolation='nearest', cmap=cmap)\n",
    "    plt.title(title)\n",
    "    plt.colorbar()\n",
    "    tick_marks = np.arange(len(classes))\n",
    "    plt.xticks(tick_marks, classes, rotation=45)\n",
    "    plt.yticks(tick_marks, classes)\n",
    "\n",
    "    fmt = '.6f' if normalize else 'd'\n",
    "    thresh = cm.max() / 2.\n",
    "    for i, j in itertools.product(range(cm.shape[0]), range(cm.shape[1])):\n",
    "        plt.text(j, i, format(cm[i, j], fmt),\n",
    "                 horizontalalignment=\"center\",\n",
    "                 color=\"white\" if cm[i, j] > thresh else \"black\")\n",
    "\n",
    "    plt.tight_layout()\n",
    "    plt.ylabel('True label')\n",
    "    plt.xlabel('Predicted label')"
   ]
  },
  {
   "cell_type": "markdown",
   "id": "9a5c37ee-846a-41ed-8dc5-4eaf48dd7a78",
   "metadata": {},
   "source": [
    "# Compare different models (DecTree, RF, ...)"
   ]
  },
  {
   "cell_type": "code",
   "execution_count": null,
   "id": "f6b5f4f1-a6af-40c9-8d13-7bbcb1aed5b7",
   "metadata": {},
   "outputs": [],
   "source": [
    "def compare(dataset=baseline, RSEED=0, param_search=False, smote=True):\n",
    "    \n",
    "    print(\"Settings: \\n\")\n",
    "    print(\"RSEED: {}\".format(RSEED))\n",
    "    print(\"Hyperparameter Search:{}\".format(param_search))\n",
    "    print(\"Smote: {}\".format(smote))\n",
    "    \n",
    "    #Prepare data for given dataset, conduct test, train split and oversample via SMOTE\n",
    "    X_train, X_test, y_train, y_test, X_train_balanced, y_train_balanced = prepare_data(dataset)    \n",
    "    \n",
    "    #Defining models\n",
    "    \n",
    "    #Without smote\n",
    "    dtree_baseline = DecisionTreeClassifier(random_state=RSEED)\n",
    "    RandomForest = RandomForestClassifier(random_state=RSEED)\n",
    "    KNN_euclidian = KNeighborsClassifier(n_neighbors=5, metric='minkowski', p=2)\n",
    "    AdaBoost = AdaBoostClassifier(n_estimators=100, random_state=RSEED)\n",
    "    logreg = LogisticRegression(random_state=0)\n",
    "    \n",
    "    models = [dtree_baseline, RandomForest, AdaBoost] #KNN_euclidian, logreg\n",
    "    \n",
    "    #Print data for models without smote\n",
    "    for model in models:\n",
    "        model.fit(X_train, y_train)\n",
    "        predictions = model.predict(X_test) \n",
    "        \n",
    "        print(\"\\n\\n\")\n",
    "        print(\"Results for model: \\n {}\".format(model))\n",
    "        print(\"\\n Confusion Matrix: \\n{}\".format(confusion_matrix(y_test, predictions)))\n",
    "        print(\"\\n Classification report: \\n {}\".format(classification_report(y_test, predictions)))\n",
    "        print(\"\\n Matthew Coefficient: \\n {}\".format(matthews_corrcoef(y_test, predictions)))\n",
    "        \n",
    "    \n",
    "    if smote is True:\n",
    "        print(\"All further results are oversampled via SMOTE:\\n\")\n",
    "    \n",
    "        #Looping through models using SMOTE data: balanced\n",
    "        for model in models:\n",
    "            model.fit(X_train_balanced, y_train_balanced)\n",
    "            predictions = model.predict(X_test) \n",
    "    \n",
    "            print(\"\\n\\n\")\n",
    "            print(\"Results for model: \\n {}\".format(model))\n",
    "            print(\"Smote: {}\".format(smote))\n",
    "            print(\"\\n Confusion Matrix: \\n{}\".format(confusion_matrix(y_test, predictions)))\n",
    "            print(\"\\n Classification report: \\n {}\".format(classification_report(y_test, predictions)))\n",
    "            print(\"\\n Matthew Coefficient: \\n {}\".format(matthews_corrcoef(y_test, predictions)))\n",
    "            \n",
    "            df.to_csv('../data/test{}.csv'.format(model))\n",
    "            \n",
    "            \n",
    "    if param_search is True:\n",
    "        print(\"Hyperparameter-Search running for Decision Tree and Random Forest.\")\n",
    "        #print(\"KNN also analyzed with Manhattan and Minkowski Metric...\")\n",
    "        if smote is True:\n",
    "            #Get best parameter via GridSearch\n",
    "            best_params_dt, best_params_rf = best_hyperparameter(X_train_balanced, y_train_balanced)\n",
    "        if smote is False: \n",
    "            best_params_dt, best_params_rf = best_hyperparameter(X_train, y_train)\n",
    "            \n",
    "        dtree_sm_opt = best_params_dt\n",
    "        RandomForest_sm_opt = best_params_rf\n",
    "        #KNN_sm_manhattan = KNeighborsClassifier(n_neighbors=5, metric='minkowski', p=1)\n",
    "        #KNN_sm_minkowski3 = KNeighborsClassifier(n_neighbors=5, metric='minkowski', p=3)\n",
    "        \n",
    "        models_sm_opt = [dtree_sm_opt, RandomForest_sm_opt] #KNN_sm_manhattan, KNN_sm_minkowski3\n",
    "        \n",
    "        #Loop for further models using SMOTE data\n",
    "        print(\"All further results are results of best hyperparameter search:\\n\")\n",
    "    \n",
    "        #Looping through models\n",
    "        for model in models_sm_opt:\n",
    "\n",
    "            model.fit(X_train_balanced, y_train_balanced)\n",
    "            predictions = model.predict(X_test) \n",
    "    \n",
    "            print(\"\\n\\n\")\n",
    "            print(\"Results for model: \\n {}\".format(model))\n",
    "            print(\"Smote: {}\".format(smote))\n",
    "            print(\"Hyperparameter Search:{}\".format(param_search))\n",
    "            print(\"\\n Confusion Matrix: \\n {}\".format(confusion_matrix(y_test, predictions)))\n",
    "            print(\"\\n Classification report: \\n {}\".format(classification_report(y_test, predictions)))\n",
    "            print(\"\\n Matthew Coefficient: \\n {}\".format(matthews_corrcoef(y_test, predictions)))\n",
    "            \n",
    "    print(\"\\n END\")\n",
    "        "
   ]
  },
  {
   "cell_type": "code",
   "execution_count": null,
   "id": "2f8a9e4b-a192-43b3-ae04-9a7af89cdee3",
   "metadata": {},
   "outputs": [],
   "source": [
    "compare(df, param_search=False)"
   ]
  },
  {
   "cell_type": "markdown",
   "id": "2fae0e52-0b67-426c-a9c7-c8c83882a97b",
   "metadata": {},
   "source": [
    "# Preparing data for upload and checking submission score"
   ]
  },
  {
   "cell_type": "code",
   "execution_count": null,
   "id": "ad6a0b97-b6a6-4be7-96b1-2742f2074ca1",
   "metadata": {},
   "outputs": [],
   "source": [
    "test = pd.read_csv(\"../data/test_final.csv\")\n",
    "test.set_index(\"TransactionId\", inplace=True)\n",
    "\n",
    "cat_columns = [\n",
    " 'ProviderId',\n",
    " 'ProductId',\n",
    " 'ProductCategory',\n",
    " 'ChannelId',\n",
    " 'PricingStrategy',\n",
    " 'BookingType',\n",
    " 'Interval']\n",
    "\n",
    "test_dummies = pd.get_dummies(test, columns=cat_columns, drop_first = True)\n",
    "test_dummies.head()\n",
    "\n",
    "test = test_dummies.drop([\"BatchId\", \"AccountId\", \"SubscriptionId\", \"CustomerId\", \"TransactionStartTime\",'ProviderId-AccountId'], axis=1)\n",
    "\n",
    "df = pd.read_csv(\"../data/training_final.csv\")\n",
    "df.set_index(\"TransactionId\", inplace=True)\n",
    "cat_columns = [\n",
    " 'ProviderId',\n",
    " 'ProductId',\n",
    " 'ProductCategory',\n",
    " 'ChannelId',\n",
    " 'PricingStrategy',\n",
    " 'BookingType',\n",
    " 'Interval']\n",
    "\n",
    "df_dummies = pd.get_dummies(df, columns=cat_columns, drop_first = True)\n",
    "df_dummies.head()\n",
    "\n",
    "df = df_dummies.drop([\"BatchId\", \"AccountId\", \"SubscriptionId\", \"CustomerId\", \"TransactionStartTime\",'ProviderId-AccountId'], axis=1)\n",
    "\n",
    "X = df.loc[:, df.columns != 'FraudResult']\n",
    "y = df[\"FraudResult\"]\n",
    "sm = SMOTE(random_state=RSEED)\n",
    "X_balanced, y_balanced = sm.fit_resample(X, y)\n",
    "\n",
    "#X_train, X_test, y_train, y_test, X_train_balanced, y_train_balanced = prepare_data(df)"
   ]
  },
  {
   "cell_type": "code",
   "execution_count": null,
   "id": "a14e7e2b-1126-4098-98f4-23718442aa58",
   "metadata": {},
   "outputs": [],
   "source": [
    "#Prepare dataset for upload\n",
    "RSEED=0\n",
    "dtree = DecisionTreeClassifier(random_state=RSEED)\n",
    "RandomForest = RandomForestClassifier(random_state=RSEED)\n",
    "KNN_euclidian = KNeighborsClassifier(n_neighbors=5, metric='minkowski', p=2)\n",
    "AdaBoost = AdaBoostClassifier(n_estimators=100, random_state=RSEED)\n",
    "logreg = LogisticRegression(random_state=0)"
   ]
  },
  {
   "cell_type": "markdown",
   "id": "1bad0def-54a2-4dfe-b398-132b46c4eb9c",
   "metadata": {},
   "source": [
    "## Re-arranging columns to fit with columns of submission data"
   ]
  },
  {
   "cell_type": "code",
   "execution_count": null,
   "id": "883a526a-531f-4190-b1c0-2871d0b8497b",
   "metadata": {},
   "outputs": [],
   "source": [
    "test['ProductId_ProductId_12'] = 0\n",
    "test['ProductCategory_other'] = 0\n",
    "X['ProductId_ProductId_17'] = 0\n",
    "X['ProductId_ProductId_18'] = 0\n",
    "X['ProductId_ProductId_25'] = 0\n",
    "X['ProductId_ProductId_26'] = 0\n",
    "X['ChannelId_ChannelId_4'] = 0\n",
    "X['ProductCategory_retail'] = 0\n",
    "\n",
    "X_2 = X[['Amount', 'Value', 'TimeDelta_ProductId', 'TimeDelta_ProductCategory', 'TimeDelta_ChannelId', 'TimeDelta_PricingStrategy',\n",
    " 'NTransactions_AccountId', 'NTransactions_SubscriptionId', 'NTransactions_CustomerId', 'NTransactions_ProviderId', 'NTransactions_ProductId',\n",
    " 'NTransactions_ProductCategory', 'NTransactions_ChannelId', 'NTransactions_PricingStrategy', 'ProviderId_ProviderId_2', 'ProviderId_ProviderId_3', 'ProviderId_ProviderId_4',\n",
    " 'ProviderId_ProviderId_5', 'ProviderId_ProviderId_6', 'ProductId_ProductId_10', 'ProductId_ProductId_11', 'ProductId_ProductId_13', 'ProductId_ProductId_14',\n",
    " 'ProductId_ProductId_15', 'ProductId_ProductId_16', 'ProductId_ProductId_17', 'ProductId_ProductId_18', 'ProductId_ProductId_19', 'ProductId_ProductId_2',\n",
    " 'ProductId_ProductId_20', 'ProductId_ProductId_21', 'ProductId_ProductId_22', 'ProductId_ProductId_23', 'ProductId_ProductId_24', 'ProductId_ProductId_25',\n",
    " 'ProductId_ProductId_26', 'ProductId_ProductId_27', 'ProductId_ProductId_3', 'ProductId_ProductId_4', 'ProductId_ProductId_5', 'ProductId_ProductId_6',\n",
    " 'ProductId_ProductId_7', 'ProductId_ProductId_8', 'ProductId_ProductId_9', 'ProductCategory_data_bundles', 'ProductCategory_financial_services', 'ProductCategory_movies',\n",
    " 'ProductCategory_retail', 'ProductCategory_ticket', 'ProductCategory_transport', 'ProductCategory_tv', 'ProductCategory_utility_bill', 'ChannelId_ChannelId_2',\n",
    " 'ChannelId_ChannelId_3','ChannelId_ChannelId_4','ChannelId_ChannelId_5', 'PricingStrategy_1', 'PricingStrategy_2', 'PricingStrategy_4', 'BookingType_1.0',\n",
    " 'Interval_evening', 'Interval_midday', 'Interval_morning', 'Interval_night', 'ProductId_ProductId_12', 'ProductCategory_other']]"
   ]
  },
  {
   "cell_type": "code",
   "execution_count": null,
   "id": "c3858732-823f-4e8e-892e-fa4c77c41690",
   "metadata": {},
   "outputs": [],
   "source": [
    "#test['ProductId_ProductId_12'] = 0\n",
    "#test['ProductCategory_other'] = 0\n",
    "X_train_balanced['ProductId_ProductId_17'] = 0\n",
    "X_train_balanced['ProductId_ProductId_18'] = 0\n",
    "X_train_balanced['ProductId_ProductId_25'] = 0\n",
    "X_train_balanced['ProductId_ProductId_26'] = 0\n",
    "X_train_balanced['ChannelId_ChannelId_4'] = 0\n",
    "X_train_balanced['ProductCategory_retail'] = 0"
   ]
  },
  {
   "cell_type": "code",
   "execution_count": null,
   "id": "d51ec8c0-d64b-4f92-a944-fe997fe82958",
   "metadata": {},
   "outputs": [],
   "source": [
    "X_train_balanced2 = X_train_balanced[['Amount', 'Value', 'TimeDelta_ProductId', 'TimeDelta_ProductCategory', 'TimeDelta_ChannelId', 'TimeDelta_PricingStrategy',\n",
    " 'NTransactions_AccountId', 'NTransactions_SubscriptionId', 'NTransactions_CustomerId', 'NTransactions_ProviderId', 'NTransactions_ProductId',\n",
    " 'NTransactions_ProductCategory', 'NTransactions_ChannelId', 'NTransactions_PricingStrategy', 'ProviderId_ProviderId_2', 'ProviderId_ProviderId_3', 'ProviderId_ProviderId_4',\n",
    " 'ProviderId_ProviderId_5', 'ProviderId_ProviderId_6', 'ProductId_ProductId_10', 'ProductId_ProductId_11', 'ProductId_ProductId_13', 'ProductId_ProductId_14',\n",
    " 'ProductId_ProductId_15', 'ProductId_ProductId_16', 'ProductId_ProductId_17', 'ProductId_ProductId_18', 'ProductId_ProductId_19', 'ProductId_ProductId_2',\n",
    " 'ProductId_ProductId_20', 'ProductId_ProductId_21', 'ProductId_ProductId_22', 'ProductId_ProductId_23', 'ProductId_ProductId_24', 'ProductId_ProductId_25',\n",
    " 'ProductId_ProductId_26', 'ProductId_ProductId_27', 'ProductId_ProductId_3', 'ProductId_ProductId_4', 'ProductId_ProductId_5', 'ProductId_ProductId_6',\n",
    " 'ProductId_ProductId_7', 'ProductId_ProductId_8', 'ProductId_ProductId_9', 'ProductCategory_data_bundles', 'ProductCategory_financial_services', 'ProductCategory_movies',\n",
    " 'ProductCategory_retail', 'ProductCategory_ticket', 'ProductCategory_transport', 'ProductCategory_tv', 'ProductCategory_utility_bill', 'ChannelId_ChannelId_2',\n",
    " 'ChannelId_ChannelId_3','ChannelId_ChannelId_4','ChannelId_ChannelId_5', 'PricingStrategy_1', 'PricingStrategy_2', 'PricingStrategy_4', 'BookingType_1.0',\n",
    " 'Interval_evening', 'Interval_midday', 'Interval_morning', 'Interval_night', 'ProductId_ProductId_12', 'ProductCategory_other']]"
   ]
  },
  {
   "cell_type": "markdown",
   "id": "38b0bcb4-86d7-4349-9d8a-ef7a363699ca",
   "metadata": {},
   "source": [
    "## Calculating predictions for submission data"
   ]
  },
  {
   "cell_type": "code",
   "execution_count": null,
   "id": "b96f7f95-3dd0-49cc-ad96-b9fcd9ce3716",
   "metadata": {},
   "outputs": [],
   "source": [
    "RandomForest.fit(X_2, y)\n",
    "predictions = RandomForest.predict(test)"
   ]
  },
  {
   "cell_type": "code",
   "execution_count": null,
   "id": "4cc117e2-610c-42fa-a3fa-c379f0c38bc2",
   "metadata": {},
   "outputs": [],
   "source": [
    "submission = test\n",
    "submission['FraudResult'] = np.array(predictions)\n",
    "submission = submission['FraudResult']"
   ]
  },
  {
   "cell_type": "code",
   "execution_count": null,
   "id": "2662ab62-ec49-411e-8031-d5e9fb510ca6",
   "metadata": {},
   "outputs": [],
   "source": [
    "submission.to_csv('../data/submission_RandomForest_withoutSMOTE.csv')"
   ]
  },
  {
   "cell_type": "markdown",
   "id": "ff7dea89-dbb7-437c-af6f-356517805441",
   "metadata": {},
   "source": [
    "# Randomized search for Random Forest to find better hyperparameters"
   ]
  },
  {
   "cell_type": "code",
   "execution_count": null,
   "id": "2691f43a-b181-4c1b-893c-8db4550c7a92",
   "metadata": {},
   "outputs": [],
   "source": [
    "start_time = datetime.now()\n",
    "#Random Forest  \n",
    "param_grid_rf = {\n",
    "'n_estimators': np.linspace(1000, 2000).astype(int),\n",
    "'max_depth': [None] + list(np.linspace(3, 20).astype(int)),\n",
    "'max_features': ['auto', 'sqrt', None] + list(np.arange(0.5, 1, 0.1)),\n",
    "'max_leaf_nodes': [None] + list(np.linspace(10, 50, 500).astype(int)),\n",
    "'min_samples_split': [2, 5, 10],\n",
    "'bootstrap': [True, False]}\n",
    "\n",
    "f1 = make_scorer(f1_score)    \n",
    "\n",
    "estimator_rf = RandomForestClassifier()\n",
    "rs_rf = RandomizedSearchCV(estimator_rf, param_grid_rf, n_jobs = -1, n_iter=3,\n",
    "                           cv = 3, scoring='roc_auc', verbose = 5, random_state=RSEED)\n",
    "rs_rf.fit(X_balanced, y_balanced)\n",
    "best_params_rf = estimator_rf.set_params(**rs_rf.best_params_)\n",
    "    \n",
    "end_time = datetime.now()\n",
    "print('Duration RF: {}'.format(end_time - start_time))"
   ]
  },
  {
   "cell_type": "code",
   "execution_count": null,
   "id": "a19add99-cc73-48bb-bc69-b49b112cedbb",
   "metadata": {},
   "outputs": [],
   "source": []
  },
  {
   "cell_type": "code",
   "execution_count": null,
   "id": "081e481a-73ee-4c20-9c58-1ac4b1252b81",
   "metadata": {},
   "outputs": [],
   "source": [
    "best_params_rf.fit(X_train_balanced, y_train_balanced)\n",
    "predictions = best_params_rf.predict(X_test) \n",
    "    \n",
    "#print(\"\\n\\n\")\n",
    "#print(\"Results for model: \\n {}\".format(model))\n",
    "#print(\"Smote: {}\".format(smote))\n",
    "#print(\"Hyperparameter Search:{}\".format(param_search))\n",
    "print(\"\\n Confusion Matrix: \\n {}\".format(confusion_matrix(y_test, predictions)))\n",
    "print(\"\\n Classification report: \\n {}\".format(classification_report(y_test, predictions)))\n",
    "print(\"\\n Matthew Coefficient: \\n {}\".format(matthews_corrcoef(y_test, predictions)))"
   ]
  },
  {
   "cell_type": "code",
   "execution_count": null,
   "id": "6bad0612-8e0d-43a9-aaa1-a0f34982a10f",
   "metadata": {},
   "outputs": [],
   "source": [
    "X_train, X_test, y_train, y_test, X_train_balanced, y_train_balanced = prepare_data(df)"
   ]
  },
  {
   "cell_type": "markdown",
   "id": "e25de539-af6a-44ec-a868-6279304a3c3f",
   "metadata": {},
   "source": [
    "# Plotting results"
   ]
  },
  {
   "cell_type": "markdown",
   "id": "6a0d0a70-61d2-480c-bb10-d0a6d8bd5df4",
   "metadata": {},
   "source": [
    "# Visualize Feature Importance"
   ]
  },
  {
   "cell_type": "code",
   "execution_count": null,
   "id": "e15a89c3-bd8e-4fe3-af1c-9e0244ac10af",
   "metadata": {},
   "outputs": [],
   "source": [
    "from sklearn.inspection import permutation_importance\n",
    "result = permutation_importance(RandomForest, X_test, y_test, n_repeats=10, random_state=42, n_jobs=-1)\n",
    "feature_importances = pd.Series(result.importances_mean, index=X_test.columns.to_list())\n",
    "feature_importances = pd.DataFrame(feature_importances).reset_index().rename(columns={\"index\": \"Feature\", 0: \"Importance\"})\n",
    "feature_importances.sort_values(by=\"Importance\", ascending=False, inplace=True)\n",
    "feature_importances = feature_importances[feature_importances[\"Importance\"]>0.0000]\n",
    "plt.figure(figsize=(4,4), dpi=120)\n",
    "g = sns.barplot(data=feature_importances, x=\"Feature\",y=\"Importance\", hue=np.ones(len(feature_importances)))\n",
    "g.set(title=\"Feature importance\")\n",
    "plt.xticks(rotation=90)\n",
    "plt.legend([],[], frameon=False)\n",
    "plt.savefig('../feature_importances.png',dpi=300,bbox_inches=\"tight\")"
   ]
  },
  {
   "cell_type": "markdown",
   "id": "d21fd1a2-437b-4400-a3dc-50cec36d5c20",
   "metadata": {},
   "source": [
    "# Visualize Confusion Matrix"
   ]
  },
  {
   "cell_type": "code",
   "execution_count": null,
   "id": "01b99f44-3411-413e-9e0b-14d247840d0b",
   "metadata": {},
   "outputs": [],
   "source": [
    "RandomForest = RandomForestClassifier(random_state=0)\n",
    "X_train, X_test, y_train, y_test, X_train_balanced, y_train_balanced = prepare_data(df) \n",
    "RandomForest.fit(X_train_balanced, y_train_balanced)\n",
    "predictions = RandomForest.predict(X_test) \n",
    "cnf_matrix = confusion_matrix(y_test, predictions)\n",
    "print(cnf_matrix)\n",
    "print(\"\\n Confusion Matrix: \\n\")\n",
    "plt.figure()\n",
    "plot_confusion_matrix(cnf_matrix, classes=['Non-fraud','Fraud'], normalize= True,  title='Confusion matrix')\n",
    "\n",
    "print(\"\\n Classification report: \\n {}\".format(classification_report(y_test, predictions)))"
   ]
  },
  {
   "cell_type": "markdown",
   "id": "2dd4f279-a165-4ca4-8af4-13b518a89fa2",
   "metadata": {},
   "source": [
    "# Visualize Decision Tree"
   ]
  },
  {
   "cell_type": "code",
   "execution_count": null,
   "id": "5939cf8a-39d7-40fd-864e-d7db372d6031",
   "metadata": {},
   "outputs": [],
   "source": [
    "from sklearn import tree\n",
    "dtree.fit(X_train_balanced, y_train_balanced)\n",
    "\n",
    "plt.figure(figsize=(12,6), dpi=200)\n",
    "tree.plot_tree(dtree, max_depth=2, filled=True, feature_names=X_test.columns.tolist(),\n",
    "              fontsize=8, impurity=False)\n",
    "plt.savefig('../decision_tree.pdf',dpi=300,bbox_inches=\"tight\")"
   ]
  },
  {
   "cell_type": "code",
   "execution_count": null,
   "id": "d17c4422-443f-44c3-916f-eb8cf863998e",
   "metadata": {},
   "outputs": [],
   "source": []
  }
 ],
 "metadata": {
  "kernelspec": {
   "display_name": "Python 3 (ipykernel)",
   "language": "python",
   "name": "python3"
  },
  "language_info": {
   "codemirror_mode": {
    "name": "ipython",
    "version": 3
   },
   "file_extension": ".py",
   "mimetype": "text/x-python",
   "name": "python",
   "nbconvert_exporter": "python",
   "pygments_lexer": "ipython3",
   "version": "3.9.4"
  }
 },
 "nbformat": 4,
 "nbformat_minor": 5
}
