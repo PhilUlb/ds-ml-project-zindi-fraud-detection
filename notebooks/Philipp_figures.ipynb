{
 "cells": [
  {
   "cell_type": "markdown",
   "id": "dfd13498-b304-4995-90cf-b96bd43d7528",
   "metadata": {},
   "source": [
    "## Import libraries and data"
   ]
  },
  {
   "cell_type": "code",
   "execution_count": null,
   "id": "6dd3711b",
   "metadata": {},
   "outputs": [],
   "source": [
    "import pandas as pd\n",
    "import numpy as np\n",
    "\n",
    "from datetime import datetime, date, time, timedelta\n",
    "\n",
    "\n",
    "import matplotlib\n",
    "import matplotlib.pyplot as plt\n",
    "import matplotlib.ticker as mticker\n",
    "%matplotlib inline\n",
    "import seaborn as sns\n",
    "import plotly.express as px\n",
    "from plotly.subplots import make_subplots\n",
    "import plotly.graph_objects as go"
   ]
  },
  {
   "cell_type": "code",
   "execution_count": null,
   "id": "2fc86738",
   "metadata": {},
   "outputs": [],
   "source": [
    "df = pd.read_csv(\"../data/training.csv\")\n",
    "df = df.drop([\"CurrencyCode\",\"CountryCode\"], axis=1) # identical value across all entries\n",
    "df.set_index(\"TransactionId\", inplace=True)\n",
    "df.head()"
   ]
  },
  {
   "cell_type": "markdown",
   "id": "35d344dc-9cf3-4214-8996-00f6de23cac3",
   "metadata": {},
   "source": [
    "## Code from feature engineering notebook\n",
    "To do: Read in csv with newly engineered features instead, then delete the cell below."
   ]
  },
  {
   "cell_type": "code",
   "execution_count": null,
   "id": "6d89a50e-04fe-4123-8bd5-e2a31e765383",
   "metadata": {},
   "outputs": [],
   "source": [
    "# From feature engineering notebook. Delete once data imported here is csv w/new features\n",
    "features = [ \n",
    "             'AccountId',\n",
    "             'SubscriptionId',\n",
    "             'CustomerId',\n",
    "             'ProviderId',\n",
    "             'ProductId',\n",
    "             'ProductCategory',\n",
    "             'ChannelId',\n",
    "             'PricingStrategy']\n",
    "\n",
    "new_feature_names2 = list()\n",
    "\n",
    "for i, feat in enumerate(features):\n",
    "    n_feat = \"NTransactions_\" + feat\n",
    "    new_feature_names2.append(n_feat)\n",
    "    \n",
    "    df = pd.merge(df,pd.DataFrame(df.groupby(feat).count()[\"FraudResult\"]).reset_index().rename(columns={'FraudResult': n_feat}))"
   ]
  },
  {
   "cell_type": "markdown",
   "id": "3406bd02-798d-46dc-9fd7-4af96417a86f",
   "metadata": {},
   "source": [
    "## Figures\n",
    "### N (%) of transactions per outcome class"
   ]
  },
  {
   "cell_type": "code",
   "execution_count": null,
   "id": "fde4a1ca-61f6-45a2-89aa-57d7ac3bbcb1",
   "metadata": {},
   "outputs": [],
   "source": [
    "df2 = df[[\"FraudResult\",\"BatchId\"]].groupby(\"FraudResult\").count().reset_index().rename(columns={'BatchId': \"Count\"})\n",
    "df2[\"Percentage\"] = round(df2[\"Count\"]/len(df),3)\n",
    "df2[\"Percentage\"] = pd.Series([\" ({0:.1f}%)\".format(val * 100) for val in df2[\"Percentage\"]], index = df2.index)\n",
    "df2[\"Label\"] = df2[\"Count\"].astype(str) + df2[\"Percentage\"]\n",
    "\n",
    "plt.figure(figsize=(4,4), dpi=120)\n",
    "g = sns.barplot(data=df2,x=\"FraudResult\",y=\"Count\")\n",
    "#g.set_yscale(\"log\")\n",
    "g.text(0, df2[\"Count\"][0]/2, df2[\"Label\"][0], color='white', ha=\"center\")\n",
    "g.text(1, 250, df2[\"Label\"][1], color='black', ha=\"center\")\n",
    "g.set_xticks([0, 1])\n",
    "g.set_xticklabels([\"No fraud\", \"fraud\"])\n",
    "#g.set_yticks([1, 10, 100, 1000, 10000, 100000])\n",
    "#g.set_yticklabels(['1','10','100','1000','10000','100000'])\n",
    "g.set(xlabel='', ylabel='Number of transactions',\n",
    "  title=f\"Total number of transactions\")\n",
    "plt.savefig(f'../figures/n_cases.png',dpi=300,bbox_inches=\"tight\")"
   ]
  },
  {
   "cell_type": "markdown",
   "id": "afafdcba-d507-4885-b147-ed15d157f2dd",
   "metadata": {},
   "source": [
    "### Transaction value distributions"
   ]
  },
  {
   "cell_type": "code",
   "execution_count": null,
   "id": "72913fe7",
   "metadata": {},
   "outputs": [],
   "source": [
    "plt.figure(figsize=(10,4), dpi=120)\n",
    "g = sns.histplot(data=df, x=\"Value\", hue=\"FraudResult\", element=\"step\", stat=\"probability\", common_norm=False, log_scale=True)\n",
    "g.set_xticks([1, 10, 100, 1000, 10000, 100000, 1000000, 10000000])\n",
    "g.set_xticklabels(['1','10','100','1000','10000','100000','1000000','10000000'])\n",
    "g.set(xlabel='Transaction value [UGX]', ylabel='Proportion of transactions', xlim=(1, 11000000),\n",
    "      title=\"Proportions of (non)fraudulent transactions per transaction value\")\n",
    "plt.xticks(rotation=-90)\n",
    "plt.legend(title='Transaction', loc='upper left', labels=['Fraudulent', 'Nonfraudulent'])\n",
    "#plt.show()\n",
    "\n",
    "plt.savefig('../figures/p_trans_per_value.png',dpi=300,bbox_inches=\"tight\")"
   ]
  },
  {
   "cell_type": "markdown",
   "id": "f448282c-a5b8-46af-ac3f-4cd08bbd0cbb",
   "metadata": {},
   "source": [
    "### Univariate N of frauds plot"
   ]
  },
  {
   "cell_type": "code",
   "execution_count": null,
   "id": "d14fcdde-5c5b-46f2-80e0-d741630cba4c",
   "metadata": {},
   "outputs": [],
   "source": [
    "def ntrans_barplot(feat):\n",
    "    n_feat = \"NTransactions_\" + feat\n",
    "    \n",
    "    df2 = df[[feat,n_feat,\"FraudResult\"]].groupby([feat,\"FraudResult\"]).mean().reset_index()\n",
    "    df2 = df[[n_feat,\"FraudResult\"]].groupby([\"FraudResult\"]).mean().reset_index()\n",
    "    \n",
    "    plt.figure(figsize=(4,4), dpi=120)\n",
    "    g = sns.barplot(data=df2,x=\"FraudResult\",y=n_feat)\n",
    "    g.set_xticks([0, 1])\n",
    "    g.set_xticklabels([\"No fraud\", \"fraud\"])\n",
    "    g.set(xlabel='', ylabel='Number of transactions',\n",
    "      title=f\"Mean number of transactions per {feat}\")\n",
    "    plt.savefig(f'../figures/ntrans_{feat}.png',dpi=300,bbox_inches=\"tight\")\n",
    "\n"
   ]
  },
  {
   "cell_type": "code",
   "execution_count": null,
   "id": "f3754689-75fc-4c4b-a348-c07b2bd78d9d",
   "metadata": {},
   "outputs": [],
   "source": [
    "ntrans_barplot(\"SubscriptionId\")"
   ]
  },
  {
   "cell_type": "markdown",
   "id": "c4d5c57d-ad53-476d-ace6-59082c61ffc1",
   "metadata": {},
   "source": [
    "## Bivariate percentages of frauds plot\n",
    "Not used in the project presentation, but keep for future reference"
   ]
  },
  {
   "cell_type": "code",
   "execution_count": null,
   "id": "6bb62ef5",
   "metadata": {},
   "outputs": [],
   "source": [
    "def scatterplot(x,y):\n",
    "    df2 = df[[x, y, \"FraudResult\"]].groupby([x, y]).mean().reset_index()\n",
    "    df2[\"FraudResult\"] = df2[\"FraudResult\"]*100\n",
    "    df2.sort_values(by=\"FraudResult\", inplace=True)\n",
    "    df2 = df2[df2[\"FraudResult\"]>0]\n",
    "    \n",
    "    n_x = len(df2.groupby(x))\n",
    "    n_y = len(df2.groupby(y))\n",
    "    \n",
    "    plt.figure(figsize=((n_x/n_y)*40,(n_y/n_x)*0.5), dpi=120)\n",
    "    g = sns.scatterplot(data=df2, x=x, y=y, hue=\"FraudResult\", size=\"FraudResult\", sizes=(20, 200))\n",
    "    g.set(title=f\"Proportions of fraudulent transactions per {x} and {y}\")\n",
    "    g.set_yticklabels(g.get_yticks(), size = 5)\n",
    "    plt.xticks(rotation=90)\n",
    "    plt.legend(title='% frauds', bbox_to_anchor=(1.01, 1), borderaxespad=0)\n",
    "\n"
   ]
  },
  {
   "cell_type": "code",
   "execution_count": null,
   "id": "9dd85265-ff0c-49fe-8de1-2ed278d6ecb9",
   "metadata": {},
   "outputs": [],
   "source": [
    "scatterplot(\"ProviderId\",\"AccountId\")"
   ]
  }
 ],
 "metadata": {
  "kernelspec": {
   "display_name": "Python 3 (ipykernel)",
   "language": "python",
   "name": "python3"
  },
  "language_info": {
   "codemirror_mode": {
    "name": "ipython",
    "version": 3
   },
   "file_extension": ".py",
   "mimetype": "text/x-python",
   "name": "python",
   "nbconvert_exporter": "python",
   "pygments_lexer": "ipython3",
   "version": "3.9.4"
  }
 },
 "nbformat": 4,
 "nbformat_minor": 5
}
