{
 "cells": [
  {
   "cell_type": "markdown",
   "id": "e66ebe92-6085-420e-974c-a12042a5c5e5",
   "metadata": {},
   "source": [
    "# Feature engineering\n",
    "\n",
    "## Load libraries and data\n",
    "\n",
    "### Libraries"
   ]
  },
  {
   "cell_type": "code",
   "execution_count": null,
   "id": "8bba41d7-9926-4687-9907-1066099d7b49",
   "metadata": {},
   "outputs": [],
   "source": [
    "import pandas as pd\n",
    "import matplotlib\n",
    "import matplotlib.pyplot as plt\n",
    "import numpy as np\n",
    "import plotly.express as px\n",
    "import plotly.graph_objects as go\n",
    "import seaborn as sns\n",
    "\n",
    "from datetime                import datetime, date, time, timedelta\n",
    "from plotly.subplots         import make_subplots\n",
    "from sklearn.metrics         import classification_report, confusion_matrix\n",
    "from sklearn.tree            import DecisionTreeClassifier\n",
    "from sklearn.model_selection import train_test_split\n",
    "from sklearn.naive_bayes     import GaussianNB\n",
    "\n",
    "%matplotlib inline"
   ]
  },
  {
   "cell_type": "markdown",
   "id": "8525aadd-3923-4ef8-a25b-538e88a59a34",
   "metadata": {},
   "source": [
    "## Data"
   ]
  },
  {
   "cell_type": "code",
   "execution_count": null,
   "id": "82475f65-93b5-4f0a-82f3-76136bab3bdc",
   "metadata": {},
   "outputs": [],
   "source": [
    "df = pd.read_csv(\"../data/training.csv\")\n",
    "df = df.drop([\"CurrencyCode\",\"CountryCode\"], axis=1) # identical value across all entries\n",
    "df[\"TransactionId2\"] = df[\"TransactionId\"]\n",
    "df.set_index(\"TransactionId\", inplace=True)\n",
    "df = df.rename(columns={'TransactionId2': \"TransactionId\"})\n",
    "df.head()"
   ]
  },
  {
   "cell_type": "markdown",
   "id": "510e4ab3-d082-4166-b725-ad15a889c347",
   "metadata": {},
   "source": [
    "### Convert TransactionStartTime to timestamps"
   ]
  },
  {
   "cell_type": "code",
   "execution_count": null,
   "id": "ed878583-6b12-4b56-be90-84dfc3470867",
   "metadata": {},
   "outputs": [],
   "source": [
    "# Convert string to timestamp\n",
    "df['TransactionStartTime'] = pd.to_datetime(df['TransactionStartTime'], format=\"%Y-%m-%dT%H:%M:%SZ\")\n",
    "\n",
    "# Check if correct\n",
    "#duration = df['TransactionStartTime'][\"TransactionId_73770\"] - df['TransactionStartTime'][\"TransactionId_76871\"] # Use ID to get same result even if df is resorted\n",
    "#duration.seconds # Should be 19\n",
    "\n",
    "# Sort df by date\n",
    "df.sort_values(by=\"TransactionStartTime\", inplace=True)"
   ]
  },
  {
   "cell_type": "markdown",
   "id": "ac01eaee-6a51-45e6-a93d-9849583173fd",
   "metadata": {},
   "source": [
    "## Features"
   ]
  },
  {
   "cell_type": "markdown",
   "id": "4ad8f83d-5270-4180-a9ac-5e1b4a201c43",
   "metadata": {},
   "source": [
    "### Time between transactions, per categorical feature type and feature level"
   ]
  },
  {
   "cell_type": "code",
   "execution_count": null,
   "id": "9401f9a3-f14c-4fe0-8ec3-26dfa83252d4",
   "metadata": {},
   "outputs": [],
   "source": [
    "features = [ \n",
    "             #'AccountId', # Previous EDA showed poor discriminability between fraudulent and nonfraudulent for commented-out features\n",
    "             #'SubscriptionId',\n",
    "             #'CustomerId',\n",
    "             #'ProviderId',\n",
    "             'ProductId',\n",
    "             'ProductCategory',\n",
    "             'ChannelId',\n",
    "             'PricingStrategy']\n",
    "\n",
    "new_feature_names = list()\n",
    "\n",
    "for i, feat in enumerate(features):\n",
    "    td_feat = \"TimeDelta_\" + feat\n",
    "    new_feature_names.append(td_feat)\n",
    "    df[td_feat]  = np.zeros((len(df),1))\n",
    "    df[td_feat]  = df[td_feat].apply(pd.to_timedelta)\n",
    "    \n",
    "    for feat_lvl in df[feat].unique().tolist():\n",
    "        df_subs = df[df[feat]==feat_lvl]\n",
    "\n",
    "        if len(df_subs)==1:\n",
    "            continue\n",
    "        else:\n",
    "            for j in range(1,len(df_subs)):\n",
    "                df[td_feat][df_subs.index[j]] = df_subs['TransactionStartTime'][j] - df_subs['TransactionStartTime'][j-1]\n",
    "    \n",
    "    df[td_feat] = df[td_feat].dt.seconds\n",
    "    print(f\"{i+1} of {len(features)} time delta features computed.\")"
   ]
  },
  {
   "cell_type": "markdown",
   "id": "8f0279ec-6659-4746-9986-af9524ee7cab",
   "metadata": {},
   "source": [
    "### Number of transactions, per categorical feature type and feature level"
   ]
  },
  {
   "cell_type": "code",
   "execution_count": null,
   "id": "a5220d32-d67f-4ef0-80bf-90b451c9fe8e",
   "metadata": {},
   "outputs": [],
   "source": [
    "features = [ \n",
    "             'AccountId',\n",
    "             'SubscriptionId',\n",
    "             'CustomerId',\n",
    "             'ProviderId',\n",
    "             'ProductId',\n",
    "             'ProductCategory',\n",
    "             'ChannelId',\n",
    "             'PricingStrategy']\n",
    "\n",
    "new_feature_names2 = list()\n",
    "\n",
    "for i, feat in enumerate(features):\n",
    "    n_feat = \"NTransactions_\" + feat\n",
    "    new_feature_names2.append(n_feat)\n",
    "    \n",
    "    df = pd.merge(df,pd.DataFrame(df.groupby(feat).count()[\"FraudResult\"]).reset_index().rename(columns={'FraudResult': n_feat}))"
   ]
  },
  {
   "cell_type": "markdown",
   "id": "97d5a57f-6ac3-4131-a5ee-9a6dd5b2d828",
   "metadata": {},
   "source": [
    "### Booking Type"
   ]
  },
  {
   "cell_type": "code",
   "execution_count": null,
   "id": "a67686b1-10f1-40f3-931a-e8c645a56193",
   "metadata": {},
   "outputs": [],
   "source": [
    "# Possible booking types: 1 if positive amount else 0\n",
    "df.loc[df['Amount'] > 0, 'BookingType'] = 1\n",
    "df.loc[df['Amount'] < 0, 'BookingType'] = 0\n",
    "\n",
    "df['BookingType'] = df['BookingType'].astype('object')"
   ]
  },
  {
   "cell_type": "markdown",
   "id": "f55f1990-a37a-4acc-aa2b-d0f191d99691",
   "metadata": {},
   "source": [
    "### Day Intervals"
   ]
  },
  {
   "cell_type": "code",
   "execution_count": null,
   "id": "4b688b59-99bf-4c57-b53c-3487e75dde6e",
   "metadata": {},
   "outputs": [],
   "source": [
    "df['Hour'] = df.TransactionStartTime.dt.hour\n",
    "df['Interval'] = np.nan \n",
    "\n",
    "df.loc[df.Hour < 8, 'Interval'] = 'night'\n",
    "df.loc[(df.Hour >= 8) & (df.Hour < 12), 'Interval'] = 'morning'\n",
    "df.loc[(df.Hour >= 12) & (df.Hour < 15), 'Interval'] = 'midday'\n",
    "df.loc[(df.Hour >= 15) & (df.Hour < 18), 'Interval'] = 'afternoon'\n",
    "df.loc[(df.Hour >= 18) & (df.Hour <= 24), 'Interval'] = 'evening'"
   ]
  },
  {
   "cell_type": "code",
   "execution_count": null,
   "id": "88566b5c-dfae-41a6-b190-2a2eef24cbde",
   "metadata": {},
   "outputs": [],
   "source": [
    "df.drop('Hour', axis=1, inplace=True)"
   ]
  },
  {
   "cell_type": "markdown",
   "id": "e56fef51-653d-4062-85f1-9992459046ff",
   "metadata": {},
   "source": [
    "### ProviderId + AccountId"
   ]
  },
  {
   "cell_type": "code",
   "execution_count": null,
   "id": "f6a159f3-c813-45a9-a7cd-e231960ed07f",
   "metadata": {},
   "outputs": [],
   "source": [
    "df['ProviderId-AccountId'] = df.ProviderId + '_' + df.AccountId\n",
    "# The top is the most common value. The freq is the most common value’s frequency.\n",
    "#provider_accid_group = df.groupby(['FraudResult', 'ProviderId']).agg({'ProviderId-AccountId': 'describe'})\n",
    "#provider_accid_group"
   ]
  },
  {
   "cell_type": "markdown",
   "id": "d96dad3e-0d81-4796-ad25-5af6920a268a",
   "metadata": {},
   "source": [
    "### Save dataframe to csv"
   ]
  },
  {
   "cell_type": "code",
   "execution_count": null,
   "id": "29183320-4b2b-425f-a6c5-20e8d8c6212d",
   "metadata": {},
   "outputs": [],
   "source": [
    "df.to_csv('../data/training_final.csv', index=False)"
   ]
  },
  {
   "cell_type": "code",
   "execution_count": null,
   "id": "5de0a16b-879d-46ec-a0d5-50790822310a",
   "metadata": {},
   "outputs": [],
   "source": [
    "df"
   ]
  },
  {
   "cell_type": "code",
   "execution_count": null,
   "id": "fbe95d65-1291-4491-8b77-95359944a91f",
   "metadata": {},
   "outputs": [],
   "source": []
  }
 ],
 "metadata": {
  "kernelspec": {
   "display_name": "Python 3 (ipykernel)",
   "language": "python",
   "name": "python3"
  },
  "language_info": {
   "codemirror_mode": {
    "name": "ipython",
    "version": 3
   },
   "file_extension": ".py",
   "mimetype": "text/x-python",
   "name": "python",
   "nbconvert_exporter": "python",
   "pygments_lexer": "ipython3",
   "version": "3.9.4"
  }
 },
 "nbformat": 4,
 "nbformat_minor": 5
}
