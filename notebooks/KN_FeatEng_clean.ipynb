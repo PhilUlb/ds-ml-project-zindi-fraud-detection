{
 "cells": [
  {
   "cell_type": "markdown",
   "id": "a975cb81-205b-411d-a3fe-a8d4f13d517d",
   "metadata": {},
   "source": [
    "# Feature Engineering - Fraud Detection Problem"
   ]
  },
  {
   "cell_type": "markdown",
   "id": "a5e4552e-8054-4e88-8946-e460ea9066c9",
   "metadata": {},
   "source": [
    "### Load, clean and prepare data"
   ]
  },
  {
   "cell_type": "code",
   "execution_count": null,
   "id": "e5f556fb-c5db-46e0-b05b-70be46dd29e2",
   "metadata": {},
   "outputs": [],
   "source": [
    "import pandas as pd\n",
    "import numpy as np\n",
    "import matplotlib\n",
    "import matplotlib.pyplot as plt\n",
    "%matplotlib inline\n",
    "import seaborn as sns\n",
    "import plotly.express as px\n",
    "import plotly.graph_objects as go\n",
    "\n",
    "from imblearn.over_sampling  import SMOTE\n",
    "from plotly.subplots         import make_subplots\n",
    "from sklearn.metrics         import classification_report, confusion_matrix\n",
    "from sklearn.tree            import DecisionTreeClassifier\n",
    "from sklearn.model_selection import train_test_split\n",
    "from sklearn.naive_bayes     import GaussianNB\n",
    "\n",
    "RSEED = 0"
   ]
  },
  {
   "cell_type": "code",
   "execution_count": null,
   "id": "dc5137f6-b24b-4a9b-9d8d-173a1ceb4f07",
   "metadata": {},
   "outputs": [],
   "source": [
    "df = pd.read_csv(\"../data/training.csv\")\n",
    "\n",
    "df = df.drop([\"CurrencyCode\",\"CountryCode\"], axis=1) # identical value across all entries\n",
    "\n",
    "df.head(3)"
   ]
  },
  {
   "cell_type": "markdown",
   "id": "05b11687-5cb7-4570-9250-08fd8cf37254",
   "metadata": {},
   "source": [
    "### Features"
   ]
  },
  {
   "cell_type": "code",
   "execution_count": null,
   "id": "4edf8ffa-acd0-4a16-a40b-13814e5e0819",
   "metadata": {},
   "outputs": [],
   "source": [
    "# feature accounting type: 1 if positive(payment) value else 0(return?)\n",
    "# Hat F1 Score von 0.64 auf 0.65 verbessert\n",
    "df.loc[df['Amount'] > 0, 'BookingType'] = 1\n",
    "df.loc[df['Amount'] < 0, 'BookingType'] = 0\n",
    "\n",
    "df['BookingType'] = df['BookingType'].astype('object')"
   ]
  },
  {
   "cell_type": "code",
   "execution_count": null,
   "id": "e5d4e2c0-b761-439e-9940-3bd6b8ff3ab7",
   "metadata": {},
   "outputs": [],
   "source": [
    "# feature interval in daytime - verbessert F1 auf 0.74 von 0.65\n",
    "\n",
    "# Transform to pandas timeseries fomar\n",
    "df['TransactionStartTime'] = df['TransactionStartTime'].str.replace('T', ' ')\n",
    "df['TransactionStartTime'] = df['TransactionStartTime'].str.replace('Z', '')\n",
    "df['TransactionStartTime'] = pd.to_datetime(df['TransactionStartTime'], infer_datetime_format=True) \n",
    "\n",
    "# get more info for datetime\n",
    "df['Hour'] = df.TransactionStartTime.dt.hour\n",
    "\n",
    "df['Interval'] = np.nan \n",
    "\n",
    "df.loc[df.Hour < 8, 'Interval'] = 'night'\n",
    "df.loc[(df.Hour >= 8) & (df.Hour < 12), 'Interval'] = 'morning'\n",
    "df.loc[(df.Hour >= 12) & (df.Hour < 15), 'Interval'] = 'midday'\n",
    "df.loc[(df.Hour >= 15) & (df.Hour < 18), 'Interval'] = 'afternoon'\n",
    "df.loc[(df.Hour >= 18) & (df.Hour <= 24), 'Interval'] = 'evening'\n",
    "\n",
    "df.sample(10)"
   ]
  },
  {
   "cell_type": "code",
   "execution_count": null,
   "id": "4e305a61-2243-4e87-bba7-1b763d9802c6",
   "metadata": {},
   "outputs": [],
   "source": [
    "interval_group = df.groupby(['BookingType', 'FraudResult', 'Interval']).agg({'Interval': 'count'})\n",
    "interval_group"
   ]
  },
  {
   "cell_type": "code",
   "execution_count": null,
   "id": "a46b16e6-23d3-4d6f-b905-13f9261e5aae",
   "metadata": {},
   "outputs": [],
   "source": [
    "# Plot interval counts\n",
    "sns.countplot(x=\"Interval\", hue=\"FraudResult\",data=df)\n",
    "plt.yscale('log')\n",
    "plt.xlabel('Interval', fontsize=14)\n",
    "plt.ylabel('Count', fontsize=14)\n",
    "plt.title('Transaction Counts per Daytime', fontsize=18)\n",
    "plt.legend(labels=[\"non-fraudulent\", \"fraudulent\"])\n",
    "plt.savefig(f'../figures/daytime.pdf',dpi=300,bbox_inches=\"tight\")"
   ]
  },
  {
   "cell_type": "code",
   "execution_count": null,
   "id": "e860bff2-60da-4caa-8c13-38f596f2f0d5",
   "metadata": {},
   "outputs": [],
   "source": [
    "test =df['Interval'].groupby(df['FraudResult']).value_counts(normalize=True)\n",
    "test"
   ]
  },
  {
   "cell_type": "code",
   "execution_count": null,
   "id": "4ed88222-8ee0-4c4a-93b7-33e7d39b654c",
   "metadata": {},
   "outputs": [],
   "source": [
    "# possible features with date attributes\n",
    "df['Year'] = df['TransactionStartTime'].dt.year\n",
    "df['Month'] = df['TransactionStartTime'].dt.month\n",
    "df['Day'] = df['TransactionStartTime'].dt.day\n",
    "df['Weekday'] = df['TransactionStartTime'].dt.weekday\n",
    "\n",
    "df['Weekday'] = df['Weekday'].astype('object')"
   ]
  },
  {
   "cell_type": "code",
   "execution_count": null,
   "id": "0d8f7a76-464d-4d87-aa53-c4154fed0a5e",
   "metadata": {},
   "outputs": [],
   "source": [
    "df_p = df.query('FraudResult == 0')\n",
    "sns.countplot(x=\"Weekday\", data=df_p)"
   ]
  },
  {
   "cell_type": "code",
   "execution_count": null,
   "id": "36ec5ee3-7376-4a1f-b989-c994a8b171e4",
   "metadata": {},
   "outputs": [],
   "source": [
    "df_p = df.query('FraudResult == 1')\n",
    "sns.countplot(x=\"Weekday\", data=df_p)"
   ]
  },
  {
   "cell_type": "code",
   "execution_count": null,
   "id": "9e8d732d-3272-4cb8-b390-1e359fef439a",
   "metadata": {},
   "outputs": [],
   "source": [
    "# Monday 0 - Sunday 6 - day of week reduced F1 score\n",
    "# 1 if positive(payment) value else 0(return?)\n",
    "weekday_group = df.groupby(['BookingType', 'FraudResult', 'Weekday']).agg({'Weekday': 'count'})\n",
    "print(df.BookingType.value_counts())\n",
    "weekday_group"
   ]
  },
  {
   "cell_type": "code",
   "execution_count": null,
   "id": "bdb0a06d-28f2-402b-b936-7d7e24bbbfd0",
   "metadata": {},
   "outputs": [],
   "source": [
    "drop_columns = [\"TransactionId\", \"BatchId\", \"AccountId\", \"SubscriptionId\", \"CustomerId\", \"TransactionStartTime\", \"Hour\", \"Year\", \"Month\", \"Day\"]"
   ]
  },
  {
   "cell_type": "code",
   "execution_count": null,
   "id": "56d9163f-8a06-4497-a0a5-af947e927c2e",
   "metadata": {},
   "outputs": [],
   "source": [
    "df.PricingStrategy.value_counts()"
   ]
  },
  {
   "cell_type": "code",
   "execution_count": null,
   "id": "39428f26-f8f0-4f41-b117-47c7a29d09cf",
   "metadata": {},
   "outputs": [],
   "source": [
    "# Feature: ProviderId + AccountId combination\n",
    "# The top is the most common value. The freq is the most common value’s frequency. T\n",
    "df['ProviderId-AccountId'] = df.ProviderId + '_' + df.AccountId\n",
    "provider_accid_group = df.groupby(['FraudResult', 'ProviderId']).agg({'ProviderId-AccountId': 'describe'})\n",
    "#print(df['ProviderId-AccountId'].value_counts().head(10))\n",
    "provider_accid_group"
   ]
  },
  {
   "cell_type": "code",
   "execution_count": null,
   "id": "4f9a7965-8c9d-4a6d-a76f-4f19263fdd5d",
   "metadata": {},
   "outputs": [],
   "source": [
    "df.AccountId.value_counts()"
   ]
  },
  {
   "cell_type": "code",
   "execution_count": null,
   "id": "0ee3439d-f5d0-4ab3-a6df-6e6d011da8dc",
   "metadata": {},
   "outputs": [],
   "source": [
    "pd.crosstab(df.FraudResult, df.ChannelId)"
   ]
  },
  {
   "cell_type": "code",
   "execution_count": null,
   "id": "cdfb4f53-70b6-45b8-8752-7843b3181cc1",
   "metadata": {},
   "outputs": [],
   "source": [
    "pd.crosstab(df.FraudResult, df.ProviderId)"
   ]
  },
  {
   "cell_type": "markdown",
   "id": "a90741e3-9c53-48e0-9b36-b37695dfc433",
   "metadata": {},
   "source": [
    "### Baseline Model Evaluation"
   ]
  },
  {
   "cell_type": "code",
   "execution_count": null,
   "id": "e6c65986-6da9-42c0-940f-4ef319d81254",
   "metadata": {},
   "outputs": [],
   "source": [
    "'''\n",
    "# Convert categorical variables into dummy/indicator variables\n",
    "cat_columns = [\n",
    " 'ProviderId',\n",
    " 'ProductCategory',\n",
    " 'ProductId',\n",
    " 'ChannelId',\n",
    " 'PricingStrategy',\n",
    " 'BookingType',\n",
    " #'Interval',\n",
    " #'Weekday',\n",
    "'ProviderId-AccountId'\n",
    "]\n",
    "\n",
    "df_dummies = pd.get_dummies(df, columns=cat_columns, drop_first = True)\n",
    "baseline = df_dummies.drop([\"TransactionId\", \"BatchId\", \"AccountId\", \"SubscriptionId\", \"CustomerId\", \"TransactionStartTime\", \"Interval\", \"Weekday\"], axis=1)\n",
    "\n",
    "# Generate synthetic samples\n",
    "X = baseline.drop(\"FraudResult\", axis = 1)\n",
    "y = baseline[\"FraudResult\"]\n",
    "\n",
    "# setting up testing and training sets\n",
    "X_train, X_test, y_train, y_test = train_test_split(X, y, stratify=y, random_state=RSEED)\n",
    "\n",
    "sm = SMOTE(random_state=0)\n",
    "X_train, y_train = sm.fit_resample(X_train, y_train)\n",
    "\n",
    "dtree = DecisionTreeClassifier()\n",
    "dtree.fit(X_train,y_train)\n",
    "predictions = dtree.predict(X_test)   \n",
    "\n",
    "print(confusion_matrix(y_test, predictions))\n",
    "print(classification_report(y_test, predictions))\n",
    "'''\n",
    "\n",
    "pass"
   ]
  }
 ],
 "metadata": {
  "kernelspec": {
   "display_name": "Python 3 (ipykernel)",
   "language": "python",
   "name": "python3"
  },
  "language_info": {
   "codemirror_mode": {
    "name": "ipython",
    "version": 3
   },
   "file_extension": ".py",
   "mimetype": "text/x-python",
   "name": "python",
   "nbconvert_exporter": "python",
   "pygments_lexer": "ipython3",
   "version": "3.9.4"
  }
 },
 "nbformat": 4,
 "nbformat_minor": 5
}
